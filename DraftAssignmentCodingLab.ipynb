{
  "nbformat": 4,
  "nbformat_minor": 0,
  "metadata": {
    "colab": {
      "name": "DraftAssignment.ipynb",
      "provenance": [],
      "collapsed_sections": [],
      "authorship_tag": "ABX9TyP4Ta8AH24/vZLtUhfWwS4F",
      "include_colab_link": true
    },
    "kernelspec": {
      "name": "python3",
      "display_name": "Python 3"
    }
  },
  "cells": [
    {
      "cell_type": "markdown",
      "metadata": {
        "id": "view-in-github",
        "colab_type": "text"
      },
      "source": [
        "<a href=\"https://colab.research.google.com/github/SimonCapo/ProgrammingAssignment2/blob/master/DraftAssignmentCodingLab.ipynb\" target=\"_parent\"><img src=\"https://colab.research.google.com/assets/colab-badge.svg\" alt=\"Open In Colab\"/></a>"
      ]
    },
    {
      "cell_type": "markdown",
      "metadata": {
        "id": "ZFJGdOK5jmWB",
        "colab_type": "text"
      },
      "source": [
        "## #1 - Prime numbers"
      ]
    },
    {
      "cell_type": "code",
      "metadata": {
        "id": "1jpf4v7rPLzP",
        "colab_type": "code",
        "colab": {
          "base_uri": "https://localhost:8080/",
          "height": 34
        },
        "outputId": "43627528-9fa9-4619-df5a-0e6631a90bb5"
      },
      "source": [
        "num = 13\n",
        "for i in range(2, round(num**0.5+1)):\n",
        "\tif num % i  == 0:\n",
        "\t\tprint(\"not prime number\")\n",
        "\t\tbreak\n",
        "else:\n",
        "\tprint(\"prime number\")\n",
        " \n",
        "\n",
        " "
      ],
      "execution_count": 22,
      "outputs": [
        {
          "output_type": "stream",
          "text": [
            "prime number\n"
          ],
          "name": "stdout"
        }
      ]
    },
    {
      "cell_type": "markdown",
      "metadata": {
        "id": "avN_QZKQu53_",
        "colab_type": "text"
      },
      "source": [
        "# #2 - Caesars Code"
      ]
    },
    {
      "cell_type": "code",
      "metadata": {
        "id": "3mAVeAsPqx7c",
        "colab_type": "code",
        "colab": {
          "base_uri": "https://localhost:8080/",
          "height": 34
        },
        "outputId": "76d0cf83-fb9e-4cd3-e214-1b03bb03308c"
      },
      "source": [
        "def caesar(char, N):\n",
        "  charUP = char.upper()\n",
        "  numbers = [ord(i)-N for i in charUP]\n",
        "  letters = [chr(i) for i in numbers]\n",
        "  return letters\n",
        "\n",
        "caesar(\"KHOOR\", 3)"
      ],
      "execution_count": 147,
      "outputs": [
        {
          "output_type": "execute_result",
          "data": {
            "text/plain": [
              "['H', 'E', 'L', 'L', 'O']"
            ]
          },
          "metadata": {
            "tags": []
          },
          "execution_count": 147
        }
      ]
    },
    {
      "cell_type": "markdown",
      "metadata": {
        "id": "tH1krU1IjspD",
        "colab_type": "text"
      },
      "source": [
        "#3 - PI approximation"
      ]
    },
    {
      "cell_type": "code",
      "metadata": {
        "id": "rU7u50YNSaa6",
        "colab_type": "code",
        "colab": {
          "base_uri": "https://localhost:8080/",
          "height": 34
        },
        "outputId": "51beac26-49cb-49f7-8d3e-e5e179831011"
      },
      "source": [
        "def term(k):\n",
        "  return (-1)**k / (2*k+1)\n",
        "\n",
        "def series(n):\n",
        "  terms = [term(k) for k in range(0, n+1)]\n",
        "  return 4*sum(terms)\n",
        "\n",
        "series(10000)"
      ],
      "execution_count": 36,
      "outputs": [
        {
          "output_type": "execute_result",
          "data": {
            "text/plain": [
              "3.1416926435905346"
            ]
          },
          "metadata": {
            "tags": []
          },
          "execution_count": 36
        }
      ]
    },
    {
      "cell_type": "markdown",
      "metadata": {
        "id": "RdG94RHbjwW8",
        "colab_type": "text"
      },
      "source": [
        "# #4 - Integral approximation"
      ]
    },
    {
      "cell_type": "code",
      "metadata": {
        "id": "ZSPIlOSWWALZ",
        "colab_type": "code",
        "colab": {
          "base_uri": "https://localhost:8080/",
          "height": 34
        },
        "outputId": "e075dce7-dad3-4410-90e6-07a00f7b0768"
      },
      "source": [
        "def f(x):\n",
        "  return x\n",
        "\n",
        "def integral(f, a, b, N):\n",
        "  d = (b-a)/N\n",
        "  terms = [f(a+i*d)*d for i in range(1, N)]\n",
        "  return sum(terms)\n",
        "\n",
        "\n",
        "integral(f, 0, 3, 100000)\n",
        "\n"
      ],
      "execution_count": 90,
      "outputs": [
        {
          "output_type": "execute_result",
          "data": {
            "text/plain": [
              "4.499954999999999"
            ]
          },
          "metadata": {
            "tags": []
          },
          "execution_count": 90
        }
      ]
    }
  ]
}